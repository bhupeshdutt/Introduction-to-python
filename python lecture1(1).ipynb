{
 "cells": [
  {
   "cell_type": "markdown",
   "id": "40656625-b8b7-46c4-9736-07a1130a6e7e",
   "metadata": {},
   "source": [
    "Basic Program"
   ]
  },
  {
   "cell_type": "code",
   "execution_count": 1,
   "id": "c2e5bd86-eb3f-45a5-a6e3-ba003726e64b",
   "metadata": {},
   "outputs": [
    {
     "name": "stdout",
     "output_type": "stream",
     "text": [
      "Hello World\n"
     ]
    }
   ],
   "source": [
    "print(\"Hello World\")"
   ]
  },
  {
   "cell_type": "code",
   "execution_count": 2,
   "id": "b61e3d3e-eb78-4be5-8b1f-ef13daacca3f",
   "metadata": {},
   "outputs": [
    {
     "name": "stdout",
     "output_type": "stream",
     "text": [
      "Name: john\n",
      "Age: 25\n"
     ]
    }
   ],
   "source": [
    "name= \"john\"\n",
    "age= 25\n",
    "print(\"Name:\", name)\n",
    "print(\"Age:\", age)"
   ]
  },
  {
   "cell_type": "code",
   "execution_count": 3,
   "id": "46cadb03-e345-4bb9-a70a-3461ceed06e9",
   "metadata": {},
   "outputs": [
    {
     "name": "stdout",
     "output_type": "stream",
     "text": [
      "Hello Python\n",
      "Name: john\n",
      "Age: 25\n"
     ]
    }
   ],
   "source": [
    "print(\"Hello Python\")\n",
    "name= \"john\"\n",
    "age= 25\n",
    "print(\"Name:\", name)\n",
    "print(\"Age:\", age)"
   ]
  },
  {
   "cell_type": "code",
   "execution_count": 10,
   "id": "3eb04eb2-1ccb-4623-9889-d413a3b4284a",
   "metadata": {},
   "outputs": [
    {
     "name": "stdout",
     "output_type": "stream",
     "text": [
      "30\n"
     ]
    }
   ],
   "source": [
    "x = 10\n",
    "y = 20\n",
    "z = x + y\n",
    "print(z)"
   ]
  },
  {
   "cell_type": "code",
   "execution_count": 11,
   "id": "b3dfd1d6-71fd-439d-b05e-8fd23294b864",
   "metadata": {},
   "outputs": [
    {
     "name": "stdout",
     "output_type": "stream",
     "text": [
      "32\n"
     ]
    }
   ],
   "source": [
    "print(20+12)"
   ]
  },
  {
   "cell_type": "code",
   "execution_count": 12,
   "id": "7759cd22-46b6-41f5-a756-087e8825dc42",
   "metadata": {},
   "outputs": [
    {
     "name": "stdout",
     "output_type": "stream",
     "text": [
      "8\n"
     ]
    }
   ],
   "source": [
    "print(20-12)"
   ]
  },
  {
   "cell_type": "code",
   "execution_count": 13,
   "id": "81fde105-6764-4bc1-8128-b4686c843abf",
   "metadata": {},
   "outputs": [
    {
     "name": "stdout",
     "output_type": "stream",
     "text": [
      "240\n"
     ]
    }
   ],
   "source": [
    "print(20*12)"
   ]
  },
  {
   "cell_type": "code",
   "execution_count": 14,
   "id": "3d37cc69-1ab7-43a4-80c0-54e2c00c5cc2",
   "metadata": {},
   "outputs": [
    {
     "name": "stdout",
     "output_type": "stream",
     "text": [
      "1.6666666666666667\n"
     ]
    }
   ],
   "source": [
    "print(20/12)"
   ]
  },
  {
   "cell_type": "code",
   "execution_count": 15,
   "id": "c8bd7728-2e03-4b07-a405-c2c39e9faae6",
   "metadata": {},
   "outputs": [
    {
     "name": "stdout",
     "output_type": "stream",
     "text": [
      "4096\n"
     ]
    }
   ],
   "source": [
    "print(2**12)\n"
   ]
  },
  {
   "cell_type": "code",
   "execution_count": 19,
   "id": "38ee1e80-b29d-412c-9ec1-07f1e3329573",
   "metadata": {},
   "outputs": [
    {
     "ename": "NameError",
     "evalue": "name 'Print' is not defined",
     "output_type": "error",
     "traceback": [
      "\u001b[1;31m---------------------------------------------------------------------------\u001b[0m",
      "\u001b[1;31mNameError\u001b[0m                                 Traceback (most recent call last)",
      "Cell \u001b[1;32mIn[19], line 2\u001b[0m\n\u001b[0;32m      1\u001b[0m result_multiplication \u001b[38;5;241m=\u001b[39m \u001b[38;5;241m6\u001b[39m \u001b[38;5;241m*\u001b[39m \u001b[38;5;241m2\u001b[39m \n\u001b[1;32m----> 2\u001b[0m Print(\u001b[38;5;124m\"\u001b[39m\u001b[38;5;124mThe result of multiplication is:\u001b[39m\u001b[38;5;124m\"\u001b[39m, result_multiplication)\n",
      "\u001b[1;31mNameError\u001b[0m: name 'Print' is not defined"
     ]
    }
   ],
   "source": [
    "result_multiplication = 6 * 2 \n",
    "Print(\"The result of multiplication is:\", result_multiplication)\n"
   ]
  },
  {
   "cell_type": "code",
   "execution_count": 20,
   "id": "220f11d4-f028-4fba-92d4-6a5818e222f2",
   "metadata": {},
   "outputs": [
    {
     "name": "stdout",
     "output_type": "stream",
     "text": [
      "The result of multiplication is: 12\n"
     ]
    }
   ],
   "source": [
    "# Multiplication\n",
    "result_multiplication = 6 * 2\n",
    "\n",
    "# we can add multiple print statements in a single line by separating them with a comma\n",
    "print(\"The result of multiplication is:\", result_multiplication)  # here"
   ]
  },
  {
   "cell_type": "code",
   "execution_count": 21,
   "id": "b4d4f8db-b245-468b-b226-4a02201e1d61",
   "metadata": {},
   "outputs": [
    {
     "name": "stdout",
     "output_type": "stream",
     "text": [
      "The result of multiplication is: 12\n"
     ]
    }
   ],
   "source": [
    "result_multiplication = 6 * 2 \n",
    "\n",
    "print(\"The result of multiplication is:\", result_multiplication)"
   ]
  },
  {
   "cell_type": "code",
   "execution_count": 22,
   "id": "2f63bc23-fab4-4c78-b7c5-5aaf9ceb8d34",
   "metadata": {},
   "outputs": [
    {
     "name": "stdout",
     "output_type": "stream",
     "text": [
      "The result of Division is: 12\n"
     ]
    }
   ],
   "source": [
    "result_division = 6 / 2 \n",
    "\n",
    "print(\"The result of Division is:\", result_multiplication)\n"
   ]
  },
  {
   "cell_type": "code",
   "execution_count": 30,
   "id": "0f9355d3-2538-4238-bd99-8d7ff82cdb89",
   "metadata": {},
   "outputs": [
    {
     "name": "stdout",
     "output_type": "stream",
     "text": [
      "The result of floor division is: 3\n",
      "The result of exponential is: 36\n",
      "The result of Modulus is: 1\n"
     ]
    }
   ],
   "source": [
    "result_floor_division = 10//3 \n",
    "\n",
    "print(\"The result of floor division is:\", result_floor_division)\n",
    "\n",
    "result_exponential = 6 ** 2 \n",
    "\n",
    "print(\"The result of exponential is:\", result_exponential)\n",
    "result_modulus = 10 % 3 \n",
    "\n",
    "print(\"The result of Modulus is:\", result_modulus)"
   ]
  },
  {
   "cell_type": "code",
   "execution_count": 32,
   "id": "b4537371-e53b-4cec-a54c-94fe35c562a5",
   "metadata": {},
   "outputs": [
    {
     "name": "stdout",
     "output_type": "stream",
     "text": [
      "Result using order: 62.0\n"
     ]
    }
   ],
   "source": [
    "result_of_order=(3+5)**2-4/2\n",
    "print(\"Result using order:\", result_of_order)"
   ]
  },
  {
   "cell_type": "markdown",
   "id": "98eab090-3666-4225-9ab9-468d41aee5c2",
   "metadata": {},
   "source": [
    "Types of Variable in Python:\n",
    "Data tupes: there are three fundamental types of function in python is defined as: int(integer), float(floating point), str(string)\n",
    "\n",
    "Integer:\n",
    "\n",
    "integer is use to store integer value of data thay can be of any length but limitted by the meomory of system.\n",
    " example:"
   ]
  },
  {
   "cell_type": "code",
   "execution_count": 36,
   "id": "41bf2bd2-52fa-4280-8a84-f018326f4d96",
   "metadata": {},
   "outputs": [
    {
     "name": "stdout",
     "output_type": "stream",
     "text": [
      "Age: 25\n"
     ]
    }
   ],
   "source": [
    "a= 25\n",
    "print(\"Age:\", a)"
   ]
  },
  {
   "cell_type": "code",
   "execution_count": 37,
   "id": "562d8431-5908-4bb2-8313-aa8c8dfaf162",
   "metadata": {},
   "outputs": [
    {
     "name": "stdout",
     "output_type": "stream",
     "text": [
      "15\n"
     ]
    }
   ],
   "source": [
    "a=10\n",
    "b=5\n",
    "sum = a+b\n",
    "print(sum)"
   ]
  },
  {
   "cell_type": "code",
   "execution_count": 38,
   "id": "443fc3d9-6bc3-45e5-81cd-fe97dbc13357",
   "metadata": {},
   "outputs": [
    {
     "name": "stdout",
     "output_type": "stream",
     "text": [
      "10\n"
     ]
    }
   ],
   "source": [
    "# binary\n",
    "binary_num=0b1010\n",
    "print(binary_num)"
   ]
  },
  {
   "cell_type": "code",
   "execution_count": 39,
   "id": "251253c1-e94d-4e1d-912a-cc0918153e3f",
   "metadata": {},
   "outputs": [
    {
     "name": "stdout",
     "output_type": "stream",
     "text": [
      "520\n"
     ]
    }
   ],
   "source": [
    "# octal\n",
    "octal_num=0o1010\n",
    "print(octal_num)"
   ]
  },
  {
   "cell_type": "code",
   "execution_count": 45,
   "id": "1bc963c9-42cd-4899-b32d-9044fcbca5e1",
   "metadata": {},
   "outputs": [
    {
     "name": "stdout",
     "output_type": "stream",
     "text": [
      "43997\n"
     ]
    }
   ],
   "source": [
    "# hexadecimal\n",
    "hexa_num=0xABDD\n",
    "print(hexa_num)"
   ]
  },
  {
   "cell_type": "markdown",
   "id": "49e495e9-fa1a-45fe-9527-d3281b37e0d3",
   "metadata": {},
   "source": [
    "Float:\n",
    "Float is used to store the decimal numbers. Thay have created including a decimal number in scientific calculation in mathematics.\n",
    "example: pi=3.14159\n"
   ]
  },
  {
   "cell_type": "code",
   "execution_count": 51,
   "id": "d0129521-e711-4d79-a78e-d0d36d9ef249",
   "metadata": {},
   "outputs": [
    {
     "name": "stdout",
     "output_type": "stream",
     "text": [
      "Area: 78.53975\n"
     ]
    }
   ],
   "source": [
    "radius=5.0\n",
    "area=pi*(radius**2)\n",
    "print(\"Area:\", area)"
   ]
  },
  {
   "cell_type": "code",
   "execution_count": 52,
   "id": "0d542951-a364-4ad1-8c77-810983445ecc",
   "metadata": {},
   "outputs": [
    {
     "name": "stdout",
     "output_type": "stream",
     "text": [
      "Area: 78.53975\n"
     ]
    }
   ],
   "source": [
    "r =5.0\n",
    "area=pi*(r**2)\n",
    "print(\"Area:\", area)"
   ]
  },
  {
   "cell_type": "code",
   "execution_count": 53,
   "id": "908658a7-dcbe-4d34-b1e3-91ac3f45e884",
   "metadata": {},
   "outputs": [
    {
     "name": "stdout",
     "output_type": "stream",
     "text": [
      "Area: 82.67690987099999\n"
     ]
    }
   ],
   "source": [
    "#Float function\n",
    "radius=5.13\n",
    "area=pi*(radius**2)\n",
    "print(\"Area:\", area)"
   ]
  },
  {
   "cell_type": "code",
   "execution_count": 54,
   "id": "504c194c-98fc-4256-ba55-63f6da88c681",
   "metadata": {},
   "outputs": [
    {
     "name": "stdout",
     "output_type": "stream",
     "text": [
      "3.14\n"
     ]
    }
   ],
   "source": [
    "rounded_pi= round(pi, 2)\n",
    "print(rounded_pi)"
   ]
  },
  {
   "cell_type": "code",
   "execution_count": 55,
   "id": "a4cbd707-8eb8-4e95-b70e-e925ebb4827d",
   "metadata": {},
   "outputs": [
    {
     "name": "stdout",
     "output_type": "stream",
     "text": [
      "3.1416\n"
     ]
    }
   ],
   "source": [
    "#Round function\n",
    "rounded_pi= round(pi, 4)\n",
    "print(rounded_pi)"
   ]
  },
  {
   "cell_type": "code",
   "execution_count": 56,
   "id": "5f02694f-a207-448e-929f-4ed3b5fabde4",
   "metadata": {},
   "outputs": [
    {
     "name": "stdout",
     "output_type": "stream",
     "text": [
      "Height: 6.8\n"
     ]
    }
   ],
   "source": [
    "# Float variable\n",
    "height=6.8\n",
    "print(\"Height:\", height)"
   ]
  },
  {
   "cell_type": "markdown",
   "id": "ca7005b2-5271-4b7f-b861-de0ab5495099",
   "metadata": {},
   "source": [
    "String:\n",
    "\n",
    "string is the type of data structure that is used to store text data and created by enclosing charecter in string. \n",
    "\n",
    "strings are ordred sequence of charecters i.e we can acces any charecter bu using indexes. the very first index in python is of 0. "
   ]
  },
  {
   "cell_type": "code",
   "execution_count": 57,
   "id": "b5be504d-4423-4573-b28e-8717af2871e6",
   "metadata": {},
   "outputs": [
    {
     "name": "stdout",
     "output_type": "stream",
     "text": [
      "H\n"
     ]
    }
   ],
   "source": [
    "great= 'Hello world'\n",
    "print(great[0])"
   ]
  },
  {
   "cell_type": "code",
   "execution_count": 64,
   "id": "6154ecee-0e5c-4115-8fd1-c696de4a8538",
   "metadata": {},
   "outputs": [
    {
     "name": "stdout",
     "output_type": "stream",
     "text": [
      " \n"
     ]
    }
   ],
   "source": [
    "great= 'Hello, world'\n",
    "print(great[6])"
   ]
  },
  {
   "cell_type": "code",
   "execution_count": 65,
   "id": "46beae7d-e1b1-4428-b296-f55c52573b89",
   "metadata": {},
   "outputs": [
    {
     "ename": "NameError",
     "evalue": "name 'greating' is not defined",
     "output_type": "error",
     "traceback": [
      "\u001b[1;31m---------------------------------------------------------------------------\u001b[0m",
      "\u001b[1;31mNameError\u001b[0m                                 Traceback (most recent call last)",
      "Cell \u001b[1;32mIn[65], line 1\u001b[0m\n\u001b[1;32m----> 1\u001b[0m \u001b[38;5;28mprint\u001b[39m(\u001b[38;5;28mlen\u001b[39m(greating))\n",
      "\u001b[1;31mNameError\u001b[0m: name 'greating' is not defined"
     ]
    }
   ],
   "source": [
    "print(len(greating))"
   ]
  },
  {
   "cell_type": "code",
   "execution_count": 66,
   "id": "5cc5809e-a11d-41fb-a398-6581e425d40e",
   "metadata": {},
   "outputs": [
    {
     "ename": "NameError",
     "evalue": "name 'greating' is not defined",
     "output_type": "error",
     "traceback": [
      "\u001b[1;31m---------------------------------------------------------------------------\u001b[0m",
      "\u001b[1;31mNameError\u001b[0m                                 Traceback (most recent call last)",
      "Cell \u001b[1;32mIn[66], line 2\u001b[0m\n\u001b[0;32m      1\u001b[0m great\u001b[38;5;241m=\u001b[39m \u001b[38;5;124m'\u001b[39m\u001b[38;5;124mHello, world\u001b[39m\u001b[38;5;124m'\u001b[39m\n\u001b[1;32m----> 2\u001b[0m \u001b[38;5;28mprint\u001b[39m(\u001b[38;5;28mlen\u001b[39m(greating))\n",
      "\u001b[1;31mNameError\u001b[0m: name 'greating' is not defined"
     ]
    }
   ],
   "source": [
    "great= 'Hello, world'\n",
    "print(len(greating))"
   ]
  },
  {
   "cell_type": "code",
   "execution_count": 67,
   "id": "74be80fb-d260-406e-87b7-ee7dd2a537ab",
   "metadata": {},
   "outputs": [
    {
     "name": "stdout",
     "output_type": "stream",
     "text": [
      "12\n"
     ]
    }
   ],
   "source": [
    "great= 'Hello, world'\n",
    "print(len(great))"
   ]
  },
  {
   "cell_type": "markdown",
   "id": "dac5143b-1e5b-41d7-a5aa-a6094d33b11e",
   "metadata": {},
   "source": [
    "List\n",
    "\n",
    "List is used to store multiple item in a single variable. list are built in data type which is used to store collection of data the others are tuple, set, dictionary\n",
    "\n",
    "List are ordered i.e item has a difined ordre and that order will not change. if we add a new irem then it add in the end of the list\n",
    "\n",
    "list items are also indexed.\n",
    "\n",
    "exam. "
   ]
  },
  {
   "cell_type": "code",
   "execution_count": 68,
   "id": "e6200ed3-2512-435a-9930-61022234330b",
   "metadata": {},
   "outputs": [
    {
     "ename": "NameError",
     "evalue": "name 'o' is not defined",
     "output_type": "error",
     "traceback": [
      "\u001b[1;31m---------------------------------------------------------------------------\u001b[0m",
      "\u001b[1;31mNameError\u001b[0m                                 Traceback (most recent call last)",
      "Cell \u001b[1;32mIn[68], line 2\u001b[0m\n\u001b[0;32m      1\u001b[0m fruits \u001b[38;5;241m=\u001b[39m [\u001b[38;5;124m'\u001b[39m\u001b[38;5;124mapple\u001b[39m\u001b[38;5;124m'\u001b[39m, \u001b[38;5;124m'\u001b[39m\u001b[38;5;124mbanana\u001b[39m\u001b[38;5;124m'\u001b[39m, \u001b[38;5;124m'\u001b[39m\u001b[38;5;124mcherry\u001b[39m\u001b[38;5;124m'\u001b[39m ]\n\u001b[1;32m----> 2\u001b[0m \u001b[38;5;28mprint\u001b[39m(fruits[o])\n",
      "\u001b[1;31mNameError\u001b[0m: name 'o' is not defined"
     ]
    }
   ],
   "source": [
    "fruits = ['apple', 'banana', 'cherry' ]\n",
    "print(fruits[o])"
   ]
  },
  {
   "cell_type": "code",
   "execution_count": 69,
   "id": "7cc0e276-037b-4ad6-87f1-5d2ac8eea4ba",
   "metadata": {},
   "outputs": [
    {
     "name": "stdout",
     "output_type": "stream",
     "text": [
      "apple\n"
     ]
    }
   ],
   "source": [
    "fruits = ['apple', 'banana', 'cherry' ]\n",
    "print(fruits[0])"
   ]
  },
  {
   "cell_type": "code",
   "execution_count": 70,
   "id": "f427c692-53b6-4c60-a888-e8d4d936b5bb",
   "metadata": {},
   "outputs": [
    {
     "ename": "IndexError",
     "evalue": "list index out of range",
     "output_type": "error",
     "traceback": [
      "\u001b[1;31m---------------------------------------------------------------------------\u001b[0m",
      "\u001b[1;31mIndexError\u001b[0m                                Traceback (most recent call last)",
      "Cell \u001b[1;32mIn[70], line 2\u001b[0m\n\u001b[0;32m      1\u001b[0m fruits \u001b[38;5;241m=\u001b[39m [\u001b[38;5;124m'\u001b[39m\u001b[38;5;124mapple\u001b[39m\u001b[38;5;124m'\u001b[39m, \u001b[38;5;124m'\u001b[39m\u001b[38;5;124mbanana\u001b[39m\u001b[38;5;124m'\u001b[39m, \u001b[38;5;124m'\u001b[39m\u001b[38;5;124mcherry\u001b[39m\u001b[38;5;124m'\u001b[39m ]\n\u001b[1;32m----> 2\u001b[0m \u001b[38;5;28mprint\u001b[39m(fruits[\u001b[38;5;241m3\u001b[39m])\n",
      "\u001b[1;31mIndexError\u001b[0m: list index out of range"
     ]
    }
   ],
   "source": [
    "fruits = ['apple', 'banana', 'cherry' ]\n",
    "print(fruits[3])"
   ]
  },
  {
   "cell_type": "code",
   "execution_count": 71,
   "id": "c7b31abd-92cc-4200-8f10-751627bd51e5",
   "metadata": {},
   "outputs": [
    {
     "name": "stdout",
     "output_type": "stream",
     "text": [
      "cherry\n"
     ]
    }
   ],
   "source": [
    "fruits = ['apple', 'banana', 'cherry' ]\n",
    "print(fruits[2])"
   ]
  },
  {
   "cell_type": "code",
   "execution_count": 74,
   "id": "750d1c68-75ea-4fc2-b87e-4d648f5155d3",
   "metadata": {},
   "outputs": [
    {
     "name": "stdout",
     "output_type": "stream",
     "text": [
      "['apple', 'orrange', 'cherry']\n",
      "3\n"
     ]
    }
   ],
   "source": [
    "fruits = ['apple', 'banana', 'cherry' ]\n",
    "fruits[1]='orrange'\n",
    "print(fruits)\n",
    "print(len(fruits))"
   ]
  },
  {
   "cell_type": "code",
   "execution_count": 75,
   "id": "a6a59dfe-3da5-42cf-bbb2-cfff3a082d75",
   "metadata": {},
   "outputs": [
    {
     "name": "stdout",
     "output_type": "stream",
     "text": [
      "Numbers: [1, 2, 3, 4, 5]\n"
     ]
    }
   ],
   "source": [
    "number=[1,2,3,4,5]\n",
    "print('Numbers:', number)"
   ]
  },
  {
   "cell_type": "markdown",
   "id": "fdf5aeb6-5bbd-4384-99d8-b346b36eeabc",
   "metadata": {},
   "source": [
    "Tuple:\n",
    "\n",
    "tuples are used to hold multiple pieces of data. they are similar to list but they are immutable i.e we can not add  remove, or modify.\n",
    "\n",
    "tuples are ordered i.e item has defined order that can not change. they are indexed aslo. \n"
   ]
  },
  {
   "cell_type": "code",
   "execution_count": 76,
   "id": "cefbee72-706c-4c42-a5b9-4737f718ef2e",
   "metadata": {},
   "outputs": [
    {
     "name": "stdout",
     "output_type": "stream",
     "text": [
      "apple\n"
     ]
    }
   ],
   "source": [
    "fruits = ('apple', 'banana', 'cherry' )\n",
    "print(fruits[0])"
   ]
  },
  {
   "cell_type": "code",
   "execution_count": 77,
   "id": "ee1a212e-4683-429a-a4d6-a17ecc1384c6",
   "metadata": {},
   "outputs": [
    {
     "ename": "TypeError",
     "evalue": "'tuple' object does not support item assignment",
     "output_type": "error",
     "traceback": [
      "\u001b[1;31m---------------------------------------------------------------------------\u001b[0m",
      "\u001b[1;31mTypeError\u001b[0m                                 Traceback (most recent call last)",
      "Cell \u001b[1;32mIn[77], line 2\u001b[0m\n\u001b[0;32m      1\u001b[0m fruits \u001b[38;5;241m=\u001b[39m (\u001b[38;5;124m'\u001b[39m\u001b[38;5;124mapple\u001b[39m\u001b[38;5;124m'\u001b[39m, \u001b[38;5;124m'\u001b[39m\u001b[38;5;124mbanana\u001b[39m\u001b[38;5;124m'\u001b[39m, \u001b[38;5;124m'\u001b[39m\u001b[38;5;124mcherry\u001b[39m\u001b[38;5;124m'\u001b[39m )\n\u001b[1;32m----> 2\u001b[0m fruits[\u001b[38;5;241m1\u001b[39m]\u001b[38;5;241m=\u001b[39m \u001b[38;5;124m'\u001b[39m\u001b[38;5;124morange\u001b[39m\u001b[38;5;124m'\u001b[39m \n\u001b[0;32m      3\u001b[0m \u001b[38;5;28mprint\u001b[39m(fruits)\n",
      "\u001b[1;31mTypeError\u001b[0m: 'tuple' object does not support item assignment"
     ]
    }
   ],
   "source": [
    "fruits = ('apple', 'banana', 'cherry' )\n",
    "fruits[1]= 'orange' \n",
    "print(fruits)"
   ]
  },
  {
   "cell_type": "code",
   "execution_count": 78,
   "id": "8e4a83e0-6a51-49a0-b9b1-c6fabb0189a7",
   "metadata": {},
   "outputs": [
    {
     "name": "stdout",
     "output_type": "stream",
     "text": [
      "3\n"
     ]
    }
   ],
   "source": [
    "fruits = ('apple', 'banana', 'cherry' )\n",
    "print(len(fruits))"
   ]
  },
  {
   "cell_type": "markdown",
   "id": "95a5ef80-0643-45c7-a641-231c116952c1",
   "metadata": {},
   "source": [
    "Dictionary:\n",
    "\n",
    "Dictionaries are the type of data structure to store data in key-value pairs. key is used to identyfy the item and \"value\" as the name value of item.\n",
    "\n",
    "they are unordered. \n",
    "\n",
    "each key must be unique. if you try to add an item with a key that already exists in the dictionary, the new item will overwrite it. "
   ]
  },
  {
   "cell_type": "code",
   "execution_count": 80,
   "id": "788d941d-80df-41b8-abd4-8f638bd537e8",
   "metadata": {},
   "outputs": [
    {
     "name": "stdout",
     "output_type": "stream",
     "text": [
      "Ramesh\n"
     ]
    }
   ],
   "source": [
    "student={\n",
    "    'name': 'Ramesh',\n",
    "    'age': 20,\n",
    "    'course':['Math', 'Science']\n",
    "}\n",
    "print(student['name'])"
   ]
  },
  {
   "cell_type": "code",
   "execution_count": 81,
   "id": "1de723ac-c9fc-4337-b120-1bf015abf796",
   "metadata": {},
   "outputs": [
    {
     "name": "stdout",
     "output_type": "stream",
     "text": [
      "['Math', 'Science']\n"
     ]
    }
   ],
   "source": [
    "student={\n",
    "    'name': 'Ramesh',\n",
    "    'age': 20,\n",
    "    'course':['Math', 'Science']\n",
    "}\n",
    "print(student['course'])"
   ]
  },
  {
   "cell_type": "code",
   "execution_count": 82,
   "id": "29d1b8f0-74e5-49cd-8520-a10ccd1d0da7",
   "metadata": {},
   "outputs": [
    {
     "name": "stdout",
     "output_type": "stream",
     "text": [
      "['Math', 'Science']\n"
     ]
    },
    {
     "ename": "KeyError",
     "evalue": "'grade'",
     "output_type": "error",
     "traceback": [
      "\u001b[1;31m---------------------------------------------------------------------------\u001b[0m",
      "\u001b[1;31mKeyError\u001b[0m                                  Traceback (most recent call last)",
      "Cell \u001b[1;32mIn[82], line 7\u001b[0m\n\u001b[0;32m      1\u001b[0m student\u001b[38;5;241m=\u001b[39m{\n\u001b[0;32m      2\u001b[0m     \u001b[38;5;124m'\u001b[39m\u001b[38;5;124mname\u001b[39m\u001b[38;5;124m'\u001b[39m: \u001b[38;5;124m'\u001b[39m\u001b[38;5;124mRamesh\u001b[39m\u001b[38;5;124m'\u001b[39m,\n\u001b[0;32m      3\u001b[0m     \u001b[38;5;124m'\u001b[39m\u001b[38;5;124mage\u001b[39m\u001b[38;5;124m'\u001b[39m: \u001b[38;5;241m20\u001b[39m,\n\u001b[0;32m      4\u001b[0m     \u001b[38;5;124m'\u001b[39m\u001b[38;5;124mcourse\u001b[39m\u001b[38;5;124m'\u001b[39m:[\u001b[38;5;124m'\u001b[39m\u001b[38;5;124mMath\u001b[39m\u001b[38;5;124m'\u001b[39m, \u001b[38;5;124m'\u001b[39m\u001b[38;5;124mScience\u001b[39m\u001b[38;5;124m'\u001b[39m]\n\u001b[0;32m      5\u001b[0m }\n\u001b[0;32m      6\u001b[0m \u001b[38;5;28mprint\u001b[39m(student[\u001b[38;5;124m'\u001b[39m\u001b[38;5;124mcourse\u001b[39m\u001b[38;5;124m'\u001b[39m])\n\u001b[1;32m----> 7\u001b[0m \u001b[38;5;28mprint\u001b[39m(student[\u001b[38;5;124m'\u001b[39m\u001b[38;5;124mgrade\u001b[39m\u001b[38;5;124m'\u001b[39m])\n",
      "\u001b[1;31mKeyError\u001b[0m: 'grade'"
     ]
    }
   ],
   "source": [
    "student={\n",
    "    'name': 'Ramesh',\n",
    "    'age': 20,\n",
    "    'course':['Math', 'Science']\n",
    "}\n",
    "print(student['course'])\n",
    "print(student['grade'])"
   ]
  },
  {
   "cell_type": "code",
   "execution_count": 84,
   "id": "34984da6-c5f2-4843-9388-bf1dda13dab4",
   "metadata": {},
   "outputs": [
    {
     "name": "stdout",
     "output_type": "stream",
     "text": [
      "['Math', 'Science']\n",
      "None\n",
      "Students Details: {'name': 'Ramesh', 'age': 20, 'course': ['Math', 'Science']}\n"
     ]
    }
   ],
   "source": [
    "student={\n",
    "    'name': 'Ramesh',\n",
    "    'age': 20,\n",
    "    'course':['Math', 'Science']\n",
    "}\n",
    "print(student['course'])\n",
    "print(student.get('grade'))\n",
    "print(\"Students Details:\", student)"
   ]
  },
  {
   "cell_type": "code",
   "execution_count": null,
   "id": "933a2413-9434-42eb-b9b9-a222c8ec0e35",
   "metadata": {},
   "outputs": [],
   "source": []
  }
 ],
 "metadata": {
  "kernelspec": {
   "display_name": "Python 3 (ipykernel)",
   "language": "python",
   "name": "python3"
  },
  "language_info": {
   "codemirror_mode": {
    "name": "ipython",
    "version": 3
   },
   "file_extension": ".py",
   "mimetype": "text/x-python",
   "name": "python",
   "nbconvert_exporter": "python",
   "pygments_lexer": "ipython3",
   "version": "3.11.7"
  }
 },
 "nbformat": 4,
 "nbformat_minor": 5
}
